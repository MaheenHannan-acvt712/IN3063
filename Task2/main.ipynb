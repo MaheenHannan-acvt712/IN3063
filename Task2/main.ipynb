{
 "cells": [
  {
   "cell_type": "markdown",
   "id": "06cc421a",
   "metadata": {},
   "source": [
    "Importing all the classes and OS/Warings workaround for multiple or parallel operations of the same"
   ]
  },
  {
   "cell_type": "code",
   "execution_count": 4,
   "id": "f27208a9",
   "metadata": {},
   "outputs": [],
   "source": [
    "from dataset_generator import DatasetGenerator\n",
    "from neural_network import NeuralNetwork\n",
    "from network_trainer import NetworkTrainer\n",
    "import os\n",
    "import warnings"
   ]
  },
  {
   "cell_type": "markdown",
   "id": "afea1096",
   "metadata": {},
   "source": [
    "Workaround"
   ]
  },
  {
   "cell_type": "code",
   "execution_count": 6,
   "id": "dab6f2f0",
   "metadata": {},
   "outputs": [],
   "source": [
    "warnings.filterwarnings(\"ignore\")\n",
    "os.environ[\"KMP_DUPLICATE_LIB_OK\"]=\"TRUE\""
   ]
  },
  {
   "cell_type": "markdown",
   "id": "49b069aa",
   "metadata": {},
   "source": [
    "Initialising the DatasetGenerator class and getting the train and test data and labels.\n",
    "\n",
    "During this step, the first and second hidden layers are specified; both input and output are specified during the neural network creation.\n",
    "\n",
    "Next the NeuralNetwork is initialised with a ReLU or Sigmoid activation.\n",
    "\n",
    "Finally the network NetworkTrainer is initialised and trains the network; outputing success rate of the MNIST model."
   ]
  },
  {
   "cell_type": "code",
   "execution_count": null,
   "id": "64cf35d6",
   "metadata": {},
   "outputs": [],
   "source": [
    "if __name__ == \"__main__\":\n",
    "    dataset_generator = DatasetGenerator()\n",
    "    data_train, labels_train = dataset_generator.get_train_data()\n",
    "    data_test, labels_test = dataset_generator.get_test_data()\n",
    "\n",
    "    layers = [128, 64]\n",
    "    neural_network = NeuralNetwork(layers, activation='relu')\n",
    "\n",
    "    network_trainer = NetworkTrainer(neural_network)\n",
    "    network_trainer.train_network(data_train, labels_train, data_test, labels_test)"
   ]
  }
 ],
 "metadata": {
  "kernelspec": {
   "display_name": "Python 3 (ipykernel)",
   "language": "python",
   "name": "python3"
  },
  "language_info": {
   "codemirror_mode": {
    "name": "ipython",
    "version": 3
   },
   "file_extension": ".py",
   "mimetype": "text/x-python",
   "name": "python",
   "nbconvert_exporter": "python",
   "pygments_lexer": "ipython3",
   "version": "3.8.8"
  }
 },
 "nbformat": 4,
 "nbformat_minor": 5
}
