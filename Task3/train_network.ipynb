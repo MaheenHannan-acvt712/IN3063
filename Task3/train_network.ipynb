{
 "cells": [
  {
   "cell_type": "markdown",
   "id": "15a0ec3b",
   "metadata": {},
   "source": [
    "Importing specific function from modules to prevent overloading"
   ]
  },
  {
   "cell_type": "code",
   "execution_count": null,
   "id": "5faf35ed",
   "metadata": {},
   "outputs": [],
   "source": [
    "#Imports - using from * import notation to reduce load/memory\n",
    "from create_network import CreateNetwork\n",
    "from preparation import Preparation\n",
    "import torch"
   ]
  },
  {
   "cell_type": "markdown",
   "id": "c81c3b9c",
   "metadata": {},
   "source": [
    "__init__ =\n",
    "Collecting neural network, model, train/valid datatsets, and defining number of training iterations\n",
    "\n",
    "train =\n",
    "Defining optimisation and lost fuction for training\n",
    "Setting current minimum loss to infinity\n",
    "Collecting current loss/accuracy of training iteration and collecting training data with the highest validity.\n",
    "\n",
    "get_trained_model =\n",
    "Returns model after being trained"
   ]
  },
  {
   "cell_type": "code",
   "execution_count": null,
   "id": "47dfe890",
   "metadata": {},
   "outputs": [],
   "source": [
    "class TrainNetwork:\n",
    "    \n",
    "    #Collecting model, train/valid datasets\n",
    "    def __init__(self, model):\n",
    "        self.model = model\n",
    "        prep = Preparation()\n",
    "        self.network = CreateNetwork()\n",
    "        self.train_loader = prep.loading(get_value=\"train\")\n",
    "        self.valid_loader = prep.loading(get_value=\"valid\")\n",
    "        self.model_name = self.network.get_model_name()\n",
    "        \n",
    "        #Defining training iterations\n",
    "        self.epochs = 10\n",
    "\n",
    "    #Model training function\n",
    "    def train(self):\n",
    "        \n",
    "        #Collecting optimiser and criterion functions\n",
    "        optimizer = self.network.loss(self.model)\n",
    "        criterion = self.network.loss(self.model, option=\"c\")\n",
    "        \n",
    "        #Setting initial loss to infinity to keep invariant\n",
    "        valid_loss_min = float('infinity')\n",
    "\n",
    "        for epoch in range(self.epochs):\n",
    "            print(\"epoch:\", epoch)\n",
    "            \n",
    "            #Loss track\n",
    "            valid_loss = 0\n",
    "            \n",
    "            #Preparing model for training\n",
    "            self.model.train()\n",
    "            for data, label in self.train_loader:\n",
    "                \n",
    "                #Zero gradient optimiser with forward pass and loss calculation\n",
    "                optimizer.zero_grad()\n",
    "                output = self.model(data)\n",
    "                loss = criterion(output, label)\n",
    "                \n",
    "                #Backward pass with optimisation\n",
    "                loss.backward()\n",
    "                optimizer.step()\n",
    "\n",
    "            #Preparing model for validation\n",
    "            self.model.eval()\n",
    "            for data, label in self.valid_loader:\n",
    "                \n",
    "                #Forward pass with loss calculation update\n",
    "                output = self.model(data)\n",
    "                loss = criterion(output, label)\n",
    "                valid_loss = loss.item() * data.size(0)\n",
    "\n",
    "            #Update model only if validation has increased\n",
    "            valid_loss = valid_loss / len(self.valid_loader.sampler)\n",
    "            if valid_loss <= valid_loss_min:\n",
    "                torch.save(self.model.state_dict(), self.model_name)\n",
    "                valid_loss_min = valid_loss\n",
    "\n",
    "    #Returning trained model\n",
    "    def get_trained_model(self):\n",
    "        TrainNetwork.train(self)\n",
    "        return self.model"
   ]
  }
 ],
 "metadata": {
  "kernelspec": {
   "display_name": "Python 3",
   "language": "python",
   "name": "python3"
  },
  "language_info": {
   "codemirror_mode": {
    "name": "ipython",
    "version": 3
   },
   "file_extension": ".py",
   "mimetype": "text/x-python",
   "name": "python",
   "nbconvert_exporter": "python",
   "pygments_lexer": "ipython3",
   "version": "3.8.8"
  }
 },
 "nbformat": 4,
 "nbformat_minor": 5
}
