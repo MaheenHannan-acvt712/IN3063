{
 "cells": [
  {
   "cell_type": "markdown",
   "id": "5dc78e5e",
   "metadata": {},
   "source": [
    "Importing specific function from modules to prevent overloading"
   ]
  },
  {
   "cell_type": "code",
   "execution_count": null,
   "id": "ee6e49b4",
   "metadata": {},
   "outputs": [],
   "source": [
    "#Imports - using from * import notation to reduce load/memory\n",
    "from torch.nn import Linear, Dropout, functional, CrossEntropyLoss, Module\n",
    "from torch.optim import SGD"
   ]
  },
  {
   "cell_type": "markdown",
   "id": "5aa621a3",
   "metadata": {},
   "source": [
    "__init__ =\n",
    "Predifining neural network layers and dropout method for fitting, loading model\n",
    "\n",
    "forward =\n",
    "\"Flattening\" image and then developing the forward pass mechanism by adding two hidden layers and two composite dropout layers to prevent overfitting\n",
    "\n",
    "loss =\n",
    "Easy code organisation for loss criterion and optimisation function\n",
    "\n",
    "get_model_name =\n",
    "Returns literal model path"
   ]
  },
  {
   "cell_type": "code",
   "execution_count": null,
   "id": "004ba65c",
   "metadata": {},
   "outputs": [],
   "source": [
    "class CreateNetwork(Module):\n",
    "    \n",
    "    #Defining Neural Network\n",
    "    def __init__(self):\n",
    "        super(CreateNetwork, self).__init__()\n",
    "        \n",
    "        #Network layers\n",
    "        self.fc1 = Linear(28 * 28, 512)\n",
    "        self.fc2 = Linear(512, 512)\n",
    "        self.fc3 = Linear(512, 10)\n",
    "        \n",
    "        #Overfitting prevention\n",
    "        self.dropout = Dropout(0.2)\n",
    "        \n",
    "        #Literal model collection\n",
    "        self.model_name = 'data\\\\model\\\\model.pt'\n",
    "\n",
    "    #Forward pass work\n",
    "    def forward(self, x):\n",
    "        \n",
    "        #Preparing image for forward oass\n",
    "        x = x.view(-1, 28 * 28)\n",
    "        \n",
    "        #Hidden layer 1\n",
    "        x = functional.relu(self.fc1(x))\n",
    "        \n",
    "        #Overfitting prevention 1\n",
    "        x = self.dropout(x)\n",
    "        \n",
    "        #Hidden layer 2\n",
    "        x = functional.relu(self.fc2(x))\n",
    "        \n",
    "        #Overfitting prevention 2\n",
    "        x = self.dropout(x)\n",
    "        \n",
    "        #Forward pass\n",
    "        x = self.fc3(x)\n",
    "        return x\n",
    "\n",
    "    #Loss function with optimiser\n",
    "    @staticmethod\n",
    "    def loss(model, option=None):\n",
    "        \n",
    "        criterion = CrossEntropyLoss()\n",
    "        optimizer = SGD(model.parameters(), lr=0.01)\n",
    "        return criterion if option == \"c\" else optimizer\n",
    "\n",
    "    #Returning literal model path\n",
    "    def get_model_name(self):\n",
    "        return self.model_name"
   ]
  }
 ],
 "metadata": {
  "kernelspec": {
   "display_name": "Python 3",
   "language": "python",
   "name": "python3"
  },
  "language_info": {
   "codemirror_mode": {
    "name": "ipython",
    "version": 3
   },
   "file_extension": ".py",
   "mimetype": "text/x-python",
   "name": "python",
   "nbconvert_exporter": "python",
   "pygments_lexer": "ipython3",
   "version": "3.8.8"
  }
 },
 "nbformat": 4,
 "nbformat_minor": 5
}
