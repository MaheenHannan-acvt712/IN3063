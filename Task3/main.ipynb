{
 "cells": [
  {
   "cell_type": "markdown",
   "id": "a58a596e",
   "metadata": {},
   "source": [
    "Importing specific function from modules to prevent overloading"
   ]
  },
  {
   "cell_type": "code",
   "execution_count": 2,
   "id": "f1326f85",
   "metadata": {},
   "outputs": [],
   "source": [
    "#Imports - using from * import notation to reduce load/memory\n",
    "import os\n",
    "import torch\n",
    "import numpy as np\n",
    "import matplotlib.pyplot as plt\n",
    "from train_network import TrainNetwork\n",
    "from test_network import TestNetwork\n",
    "from preparation import Preparation\n",
    "from create_network import CreateNetwork\n",
    "import warnings"
   ]
  },
  {
   "cell_type": "markdown",
   "id": "702c1575",
   "metadata": {},
   "source": [
    "No idea why, local system issues and version control issues"
   ]
  },
  {
   "cell_type": "code",
   "execution_count": 3,
   "id": "b1f7bb34",
   "metadata": {},
   "outputs": [],
   "source": [
    "#\"Preventing\" version and local systems issues\n",
    "warnings.filterwarnings(\"ignore\")\n",
    "os.environ[\"KMP_DUPLICATE_LIB_OK\"]=\"TRUE\""
   ]
  },
  {
   "cell_type": "markdown",
   "id": "a0883ac5",
   "metadata": {},
   "source": [
    "__init__ =\n",
    "Collecting neural network architecture and test dataset\n",
    "\n",
    "train_test =\n",
    "Passing the model to be trained through the neural network and then testing it for validity\n",
    "\n",
    "export_results =\n",
    "printing results prettified to console"
   ]
  },
  {
   "cell_type": "code",
   "execution_count": 4,
   "id": "5e605b6a",
   "metadata": {},
   "outputs": [],
   "source": [
    "class Main:\n",
    "    \n",
    "    #Collecting test dataset and neural network\n",
    "    def __init__(self):\n",
    "        self.prep = Preparation()\n",
    "        self.model = CreateNetwork()\n",
    "        self.test_loader = self.prep.loading(get_value=\"test\")\n",
    "\n",
    "    #Adding test and training models to model\n",
    "    def train_test(self):\n",
    "        trained_network = TrainNetwork(self.model)\n",
    "        self.model = trained_network.get_trained_model()\n",
    "        tested_network = TestNetwork(self.model)\n",
    "        self.model = tested_network.get_tested_model()\n",
    "\n",
    "    #Function to export results from learning model with actual results\n",
    "    def export_results(self):\n",
    "        data_iter = iter(self.test_loader)\n",
    "        images, labels = data_iter.next()\n",
    "        output = self.model(images)\n",
    "        _, preds = torch.max(output, 1)\n",
    "        images = images.numpy()\n",
    "        \n",
    "        #Prettifying export\n",
    "        fig = plt.figure(figsize=(25, 4))\n",
    "        for idx in np.arange(20):\n",
    "            ax = fig.add_subplot(2, 20 / 2, idx + 1, xticks=[], yticks=[])\n",
    "            ax.imshow(np.squeeze(images[idx]), cmap='gray')\n",
    "            ax.set_title(\"{} ({})\".format(str(preds[idx].item()), str(labels[idx].item())),\n",
    "                         color=(\"green\" if preds[idx] == labels[idx] else \"red\"))\n",
    "\n",
    "        plt.savefig(\"results\\\\results\")"
   ]
  },
  {
   "cell_type": "markdown",
   "id": "bee66fa3",
   "metadata": {},
   "source": [
    "Main execution of entire AI work"
   ]
  },
  {
   "cell_type": "code",
   "execution_count": 5,
   "id": "fca83b97",
   "metadata": {},
   "outputs": [
    {
     "name": "stdout",
     "output_type": "stream",
     "text": [
      "Downloading http://fashion-mnist.s3-website.eu-central-1.amazonaws.com/train-images-idx3-ubyte.gz\n",
      "Downloading http://fashion-mnist.s3-website.eu-central-1.amazonaws.com/train-images-idx3-ubyte.gz to data\\FashionMNIST\\raw\\train-images-idx3-ubyte.gz\n"
     ]
    },
    {
     "data": {
      "application/vnd.jupyter.widget-view+json": {
       "model_id": "0567740843b1402ab19ad7b61b5a1a0d",
       "version_major": 2,
       "version_minor": 0
      },
      "text/plain": [
       "  0%|          | 0/26421880 [00:00<?, ?it/s]"
      ]
     },
     "metadata": {},
     "output_type": "display_data"
    },
    {
     "name": "stdout",
     "output_type": "stream",
     "text": [
      "Extracting data\\FashionMNIST\\raw\\train-images-idx3-ubyte.gz to data\\FashionMNIST\\raw\n",
      "\n",
      "Downloading http://fashion-mnist.s3-website.eu-central-1.amazonaws.com/train-labels-idx1-ubyte.gz\n",
      "Downloading http://fashion-mnist.s3-website.eu-central-1.amazonaws.com/train-labels-idx1-ubyte.gz to data\\FashionMNIST\\raw\\train-labels-idx1-ubyte.gz\n"
     ]
    },
    {
     "data": {
      "application/vnd.jupyter.widget-view+json": {
       "model_id": "35ca655710024c7cbb4f7bdd313b7b92",
       "version_major": 2,
       "version_minor": 0
      },
      "text/plain": [
       "  0%|          | 0/29515 [00:00<?, ?it/s]"
      ]
     },
     "metadata": {},
     "output_type": "display_data"
    },
    {
     "name": "stdout",
     "output_type": "stream",
     "text": [
      "Extracting data\\FashionMNIST\\raw\\train-labels-idx1-ubyte.gz to data\\FashionMNIST\\raw\n",
      "\n",
      "Downloading http://fashion-mnist.s3-website.eu-central-1.amazonaws.com/t10k-images-idx3-ubyte.gz\n",
      "Downloading http://fashion-mnist.s3-website.eu-central-1.amazonaws.com/t10k-images-idx3-ubyte.gz to data\\FashionMNIST\\raw\\t10k-images-idx3-ubyte.gz\n"
     ]
    },
    {
     "data": {
      "application/vnd.jupyter.widget-view+json": {
       "model_id": "c8426db5884e47a3b4fd91761fc822b5",
       "version_major": 2,
       "version_minor": 0
      },
      "text/plain": [
       "  0%|          | 0/4422102 [00:00<?, ?it/s]"
      ]
     },
     "metadata": {},
     "output_type": "display_data"
    },
    {
     "name": "stdout",
     "output_type": "stream",
     "text": [
      "Extracting data\\FashionMNIST\\raw\\t10k-images-idx3-ubyte.gz to data\\FashionMNIST\\raw\n",
      "\n",
      "Downloading http://fashion-mnist.s3-website.eu-central-1.amazonaws.com/t10k-labels-idx1-ubyte.gz\n",
      "Downloading http://fashion-mnist.s3-website.eu-central-1.amazonaws.com/t10k-labels-idx1-ubyte.gz to data\\FashionMNIST\\raw\\t10k-labels-idx1-ubyte.gz\n"
     ]
    },
    {
     "data": {
      "application/vnd.jupyter.widget-view+json": {
       "model_id": "f0ddc0a3328a469abeeacabbd38a6d3a",
       "version_major": 2,
       "version_minor": 0
      },
      "text/plain": [
       "  0%|          | 0/5148 [00:00<?, ?it/s]"
      ]
     },
     "metadata": {},
     "output_type": "display_data"
    },
    {
     "name": "stdout",
     "output_type": "stream",
     "text": [
      "Extracting data\\FashionMNIST\\raw\\t10k-labels-idx1-ubyte.gz to data\\FashionMNIST\\raw\n",
      "\n",
      "epoch: 0\n",
      "epoch: 1\n",
      "epoch: 2\n",
      "epoch: 3\n",
      "epoch: 4\n",
      "epoch: 5\n",
      "epoch: 6\n",
      "epoch: 7\n",
      "epoch: 8\n",
      "epoch: 9\n"
     ]
    },
    {
     "data": {
      "image/png": "[encoded data removed]",
      "text/plain": [
       "<Figure size 1800x288 with 20 Axes>"
      ]
     },
     "metadata": {},
     "output_type": "display_data"
    }
   ],
   "source": [
    "#Executing model training application\n",
    "if __name__ == '__main__':\n",
    "    main = Main()\n",
    "    main.train_test()\n",
    "    main.export_results()"
   ]
  },
  {
   "cell_type": "code",
   "execution_count": null,
   "id": "eca68eb5",
   "metadata": {},
   "outputs": [],
   "source": []
  }
 ],
 "metadata": {
  "kernelspec": {
   "display_name": "Python 3",
   "language": "python",
   "name": "python3"
  },
  "language_info": {
   "codemirror_mode": {
    "name": "ipython",
    "version": 3
   },
   "file_extension": ".py",
   "mimetype": "text/x-python",
   "name": "python",
   "nbconvert_exporter": "python",
   "pygments_lexer": "ipython3",
   "version": "3.8.8"
  }
 },
 "nbformat": 4,
 "nbformat_minor": 5
}
