{
 "cells": [
  {
   "cell_type": "markdown",
   "id": "96ee26b2",
   "metadata": {},
   "source": [
    "Importing specific function from modules to prevent overloading"
   ]
  },
  {
   "cell_type": "code",
   "execution_count": null,
   "id": "54c70bf7",
   "metadata": {},
   "outputs": [],
   "source": [
    "#Imports - using from * import notation to reduce load/memory\n",
    "import torch\n",
    "import numpy as np\n",
    "from preparation import Preparation\n",
    "from create_network import CreateNetwork"
   ]
  },
  {
   "cell_type": "markdown",
   "id": "41003380",
   "metadata": {},
   "source": [
    "__init__ =\n",
    "Collecting neural network, model, and training dataset\n",
    "\n",
    "test =\n",
    "Loading the model and applying forward pass function whilst collecting loss/accuracy\n",
    "\n",
    "get_tested_model =\n",
    "Returning model after being tested"
   ]
  },
  {
   "cell_type": "code",
   "execution_count": null,
   "id": "91b33d76",
   "metadata": {},
   "outputs": [],
   "source": [
    "class TestNetwork:\n",
    "    \n",
    "    #Collecting training dataset, model, and neaural network\n",
    "    def __init__(self, model):\n",
    "        self.model = model\n",
    "        prep = Preparation()\n",
    "        self.network = CreateNetwork()\n",
    "        self.model_name = self.network.get_model_name()\n",
    "        self.train_loader = prep.loading(get_value=\"train\")\n",
    "\n",
    "    #Collecting model with highest validity\n",
    "    def test(self):\n",
    "        self.model.load_state_dict(torch.load(self.model_name))\n",
    "        \n",
    "        #Collecting loss/accuracy\n",
    "        class_correct = list(0. for i in range(10))\n",
    "        class_total = list(0. for i in range(10))\n",
    "        self.model.eval()\n",
    "\n",
    "        #Forward pass of imputs to model\n",
    "        for data, target in self.train_loader:\n",
    "            output = self.model(data)\n",
    "            _, pred = torch.max(output, 1)\n",
    "            correct = np.squeeze(pred.eq(target.data.view_as(pred)))\n",
    "\n",
    "            #Loss/accuracy calculation\n",
    "            for i in range(len(target)):\n",
    "                label = target.data[i]\n",
    "                class_correct[label] += correct[i].item()\n",
    "                class_total[label] += 1\n",
    "    \n",
    "    #Returning test model\n",
    "    def get_tested_model(self):\n",
    "        TestNetwork.test(self)\n",
    "        return self.model"
   ]
  }
 ],
 "metadata": {
  "kernelspec": {
   "display_name": "Python 3",
   "language": "python",
   "name": "python3"
  },
  "language_info": {
   "codemirror_mode": {
    "name": "ipython",
    "version": 3
   },
   "file_extension": ".py",
   "mimetype": "text/x-python",
   "name": "python",
   "nbconvert_exporter": "python",
   "pygments_lexer": "ipython3",
   "version": "3.8.8"
  }
 },
 "nbformat": 4,
 "nbformat_minor": 5
}
