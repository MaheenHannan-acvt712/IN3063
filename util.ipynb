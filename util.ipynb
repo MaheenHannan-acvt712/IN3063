{
 "cells": [
  {
   "cell_type": "markdown",
   "id": "e73ef96e",
   "metadata": {},
   "source": [
    "Returns the width and height of the grid, used to prevent code duplication"
   ]
  },
  {
   "cell_type": "code",
   "execution_count": null,
   "id": "f3b25beb",
   "metadata": {},
   "outputs": [],
   "source": [
    "#Code clean up for less work\n",
    "def dimensions(grid):\n",
    "    w = len(grid[0])\n",
    "    h = len(grid)\n",
    "    return w, h"
   ]
  },
  {
   "cell_type": "markdown",
   "id": "28999c09",
   "metadata": {},
   "source": [
    "Returns a key:value dictionary of node:cost, used to prevent code duplication"
   ]
  },
  {
   "cell_type": "code",
   "execution_count": null,
   "id": "962e6a5f",
   "metadata": {},
   "outputs": [],
   "source": [
    "#Converting grid to node-cost graph\n",
    "def costs(grid):\n",
    "    x, y = dimensions(grid)\n",
    "    graph = {}\n",
    "    for i in range(0, x):\n",
    "        for j in range(0, y):\n",
    "            graph.update({(i, j): grid[i][j]})\n",
    "            \n",
    "    return graph"
   ]
  },
  {
   "cell_type": "markdown",
   "id": "3691af01",
   "metadata": {},
   "source": [
    "Returns a weighted graph of node:(child node: cost) to track potential movements, used to prevent code duplication"
   ]
  },
  {
   "cell_type": "code",
   "execution_count": null,
   "id": "f8dfc5ee",
   "metadata": {},
   "outputs": [],
   "source": [
    "#Converting grid to weighted graph\n",
    "def graph(grid, full=False):\n",
    "    x, y = dimensions(grid)\n",
    "    graph = {}\n",
    "    for i in range(0, x):\n",
    "        for j in range (0, y):\n",
    "            subgraphs = {}\n",
    "            if full:\n",
    "                if i - 1 >= 0:\n",
    "                    subgraphs.update({(i-1,j):grid[i-1][j]})\n",
    "                if j - 1 >= 0:\n",
    "                    subgraphs.update({(i,j-1):grid[i][j-1]})\n",
    "            if i + 1 < x:\n",
    "                subgraphs.update({(i+1,j):grid[i+1][j]})\n",
    "            if j + 1 < y:\n",
    "                subgraphs.update({(i,j+1):grid[i][j+1]})\n",
    "            graph.update({(i, j): subgraphs})\n",
    "            \n",
    "    return graph"
   ]
  },
  {
   "cell_type": "markdown",
   "id": "36db2120",
   "metadata": {},
   "source": [
    "Returns a linked list dictionary for each node with a preset cost of infinity in order to be populated by Dijkstra's Algorithm with child nodes and costs, used for code organisation"
   ]
  },
  {
   "cell_type": "code",
   "execution_count": null,
   "id": "f9674cff",
   "metadata": {},
   "outputs": [],
   "source": [
    "#Creating a completely weighted graph with pre-set infinities\n",
    "def infinities(graph, source_node=(0, 0)):\n",
    "    path = {source_node: (None, 0)}\n",
    "    try:\n",
    "        for node in graph:\n",
    "            if node != source_node:\n",
    "                path.update({node: (None, float('infinity'))})\n",
    "        return path\n",
    "    except:\n",
    "        return path"
   ]
  }
 ],
 "metadata": {
  "kernelspec": {
   "display_name": "Python 3 (ipykernel)",
   "language": "python",
   "name": "python3"
  },
  "language_info": {
   "codemirror_mode": {
    "name": "ipython",
    "version": 3
   },
   "file_extension": ".py",
   "mimetype": "text/x-python",
   "name": "python",
   "nbconvert_exporter": "python",
   "pygments_lexer": "ipython3",
   "version": "3.8.8"
  }
 },
 "nbformat": 4,
 "nbformat_minor": 5
}
