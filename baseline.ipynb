{
 "cells": [
  {
   "cell_type": "markdown",
   "id": "fdb171b6",
   "metadata": {},
   "source": [
    "Importing two modules (time and util).\n",
    "\n",
    "Time module is used to keep track of computation time whereas the util module created by me is used as a helper function to easily retrieve the width and height of the grid alongside a dictionary of key:values of node:cost (i.e. value of cell) "
   ]
  },
  {
   "cell_type": "code",
   "execution_count": null,
   "id": "7b2371ff",
   "metadata": {},
   "outputs": [],
   "source": [
    "#Importing helper functions\n",
    "from util import dimensions, costs\n",
    "from time import time"
   ]
  },
  {
   "cell_type": "markdown",
   "id": "93db1d0e",
   "metadata": {},
   "source": [
    "The Baseline Algorithm is essentially moving the agent either down or right - whichever cell has the lowest cost will be chosen. The cost analysis is done by using a \"gm\" flag (for game modes) - depending on the game mode, the cost analysis will differ.\n",
    "\n",
    "Once the agent has reached an edge, either the absolute right or absolute bottom, the agent will just move in a straight line towards the target.\n",
    "\n",
    "The path is updated with each cell movement and the cost of the path is calculated at the end by iterating through the stack of nodes (path) and collecting each cost associated with that cell."
   ]
  },
  {
   "cell_type": "code",
   "execution_count": null,
   "id": "f78f1c56",
   "metadata": {},
   "outputs": [],
   "source": [
    "class Baseline:\n",
    "    \n",
    "    #Initial values\n",
    "    def __init__(self, grid):\n",
    "        self.cost = 0\n",
    "        self.runtime = 0\n",
    "        self.stack = [(0, 0)]\n",
    "        self.graph = costs(grid)\n",
    "        self.x, self.y = dimensions(grid)\n",
    "\n",
    "    #Algorithm body\n",
    "    def algorithm(self, gm):\n",
    "        \n",
    "        #Capturing start time\n",
    "        start_time = time()\n",
    "        \n",
    "        #Getting grid lengths\n",
    "        x = self.x - 1\n",
    "        y = self.y - 1\n",
    "        \n",
    "        #Visiting unvisted cells\n",
    "        while (x, y) not in self.stack:  \n",
    "            \n",
    "            #Capturing possible movements\n",
    "            right = (self.stack[-1][0]+1, self.stack[-1][1])\n",
    "            down = (self.stack[-1][0], self.stack[-1][1]+1)\n",
    "            \n",
    "            #Checking if we are at any edges\n",
    "            if right[0] <= x and down[1] <= y:\n",
    "                \n",
    "                #Checking game mode for possible cell movement\n",
    "                if gm == 1:\n",
    "                    \n",
    "                    #Capturing cell movement\n",
    "                    if self.graph[(right)] <= self.graph[(down)]:\n",
    "                        self.stack.append(right)\n",
    "                    elif self.graph[(right)] > self.graph[(down)]:\n",
    "                        self.stack.append(down)\n",
    "                        \n",
    "                if gm == 2:\n",
    "                    \n",
    "                    #Sub function for game mode 2 calculation\n",
    "                    def calc(a):\n",
    "                        return abs(\n",
    "                            int(self.graph[self.stack[-1]]) -\n",
    "                            int (self.graph[(a)]))\n",
    "                    \n",
    "                    #Capturing cell movement\n",
    "                    if calc(right) <= calc(down):\n",
    "                        self.stack.append(right)\n",
    "                    elif calc(right) > calc(down):\n",
    "                        self.stack.append(down)\n",
    "            \n",
    "            #Creating movement when agent is at an edge\n",
    "            elif right[0] > x:\n",
    "                self.stack.append(down)\n",
    "            elif down[1] > y:\n",
    "                self.stack.append(right)\n",
    "                         \n",
    "        #Checking game mode for cost calculation\n",
    "        if gm == 1:\n",
    "            for i in self.stack:\n",
    "                self.cost = int(self.cost) + int(self.graph[i])\n",
    "        elif gm == 2:\n",
    "            for i in range(0, len(self.stack)-1):\n",
    "                prev = self.stack[i]\n",
    "                current = self.stack[i+1]\n",
    "                self.cost = self.cost + (abs(int(self.graph[prev]) -\n",
    "                                             int(self.graph[current])))\n",
    "        \n",
    "        #Capturing final run time\n",
    "        self.runtime = format((time() - start_time), '.100g')\n",
    "\n",
    "    #Returning results\n",
    "    def get_results(self, gm):\n",
    "        Baseline.algorithm(self, gm)\n",
    "        return self.runtime, self.cost, len(self.stack), self.stack\n",
    "        "
   ]
  }
 ],
 "metadata": {
  "kernelspec": {
   "display_name": "Python 3 (ipykernel)",
   "language": "python",
   "name": "python3"
  },
  "language_info": {
   "codemirror_mode": {
    "name": "ipython",
    "version": 3
   },
   "file_extension": ".py",
   "mimetype": "text/x-python",
   "name": "python",
   "nbconvert_exporter": "python",
   "pygments_lexer": "ipython3",
   "version": "3.8.8"
  }
 },
 "nbformat": 4,
 "nbformat_minor": 5
}
